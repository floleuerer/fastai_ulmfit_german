{
 "cells": [
  {
   "cell_type": "code",
   "execution_count": 1,
   "metadata": {},
   "outputs": [],
   "source": [
    "from fastai.text.all import *\n",
    "from fastai.callback.progress import CSVLogger"
   ]
  },
  {
   "cell_type": "code",
   "execution_count": 2,
   "metadata": {},
   "outputs": [],
   "source": [
    "path = Path('data/dewiki_lstm_15k')\n",
    "model_path = path/'model'\n",
    "data_path = Path('data/dewiki_160k/docs_160k')\n",
    "lang = 'de'"
   ]
  },
  {
   "cell_type": "code",
   "execution_count": 3,
   "metadata": {},
   "outputs": [],
   "source": [
    "bs=128"
   ]
  },
  {
   "cell_type": "code",
   "execution_count": 4,
   "metadata": {},
   "outputs": [],
   "source": [
    "tok = SentencePieceTokenizer(lang=lang, max_vocab_sz=15000)"
   ]
  },
  {
   "cell_type": "code",
   "execution_count": 5,
   "metadata": {
    "scrolled": true
   },
   "outputs": [],
   "source": [
    "dblock = DataBlock(blocks=TextBlock.from_folder(data_path, is_lm=True, tok=tok),\n",
    "                   get_items=get_files,\n",
    "                   splitter=RandomSplitter(valid_pct=0.1, seed=42),\n",
    "                  )\n",
    "\n",
    "dls = dblock.dataloaders(data_path, path=data_path, bs=bs, num_workers=18)"
   ]
  },
  {
   "cell_type": "code",
   "execution_count": 6,
   "metadata": {},
   "outputs": [
    {
     "data": {
      "text/html": [
       "<table border=\"1\" class=\"dataframe\">\n",
       "  <thead>\n",
       "    <tr style=\"text-align: right;\">\n",
       "      <th></th>\n",
       "      <th>text</th>\n",
       "      <th>text_</th>\n",
       "    </tr>\n",
       "  </thead>\n",
       "  <tbody>\n",
       "    <tr>\n",
       "      <th>0</th>\n",
       "      <td>▁xxbos ▁xxmaj ▁gerd ▁xxmaj ▁schön felder ▁( intendant ) ▁xxmaj ▁max ▁xxmaj ▁gerd ▁xxmaj ▁schön felder ▁(* ▁27. ▁xxmaj ▁april ▁1936 ▁in ▁xxmaj ▁kö t te witz ; ▁† ▁12. ▁xxmaj ▁oktober ▁2 ▁xxrep ▁3 ▁0 ▁in ▁xxmaj ▁dresden ) ▁war ▁ein ▁deutscher ▁xxmaj ▁musik wissenschaftler ▁und ▁xxmaj ▁ intendant . ▁xxmaj ▁schön felder ▁stammte ▁aus ▁dem ▁xxmaj ▁oster z gebirge ▁und ▁besuchte ▁xxmaj ▁schulen ▁in ▁xxmaj ▁do h na ▁und ▁xxmaj</td>\n",
       "      <td>▁xxmaj ▁gerd ▁xxmaj ▁schön felder ▁( intendant ) ▁xxmaj ▁max ▁xxmaj ▁gerd ▁xxmaj ▁schön felder ▁(* ▁27. ▁xxmaj ▁april ▁1936 ▁in ▁xxmaj ▁kö t te witz ; ▁† ▁12. ▁xxmaj ▁oktober ▁2 ▁xxrep ▁3 ▁0 ▁in ▁xxmaj ▁dresden ) ▁war ▁ein ▁deutscher ▁xxmaj ▁musik wissenschaftler ▁und ▁xxmaj ▁ intendant . ▁xxmaj ▁schön felder ▁stammte ▁aus ▁dem ▁xxmaj ▁oster z gebirge ▁und ▁besuchte ▁xxmaj ▁schulen ▁in ▁xxmaj ▁do h na ▁und ▁xxmaj ▁</td>\n",
       "    </tr>\n",
       "    <tr>\n",
       "      <th>1</th>\n",
       "      <td>▁drei ▁xxmaj ▁single s , ▁unter ▁denen ▁auch ▁der ▁erste ▁von ▁xxmaj ▁ t hain ▁geschrieben e ▁und ▁veröffentlichte ▁xxmaj ▁song ▁\" i ’ d ▁xxmaj ▁ ne ver ▁xxmaj ▁be ▁xxmaj ▁ blue \" ▁enthalten ▁war . ▁xxmaj ▁als ▁sich ▁die ▁\" strang ers \" ▁auf lös ten , ▁stieg ▁er ▁bei ▁den ▁ ' secret s ' ▁ein , ▁mit ▁der ▁er ▁eine ▁xxmaj ▁single ▁veröffentlichte . ▁xxmaj ▁noch ▁im</td>\n",
       "      <td>▁xxmaj ▁single s , ▁unter ▁denen ▁auch ▁der ▁erste ▁von ▁xxmaj ▁ t hain ▁geschrieben e ▁und ▁veröffentlichte ▁xxmaj ▁song ▁\" i ’ d ▁xxmaj ▁ ne ver ▁xxmaj ▁be ▁xxmaj ▁ blue \" ▁enthalten ▁war . ▁xxmaj ▁als ▁sich ▁die ▁\" strang ers \" ▁auf lös ten , ▁stieg ▁er ▁bei ▁den ▁ ' secret s ' ▁ein , ▁mit ▁der ▁er ▁eine ▁xxmaj ▁single ▁veröffentlichte . ▁xxmaj ▁noch ▁im ▁selben</td>\n",
       "    </tr>\n",
       "    <tr>\n",
       "      <th>2</th>\n",
       "      <td>▁ ter ro r istin , ▁wurde ▁allerdings ▁von ▁westlichen ▁xxmaj ▁kommen t atoren ▁praktisch ▁allgemein ▁zurück ge wiesen . ▁xxmaj ▁die ▁im ▁xxmaj ▁ausland ▁lebende ▁xxmaj ▁u ig ur en ▁sind ▁heute ▁oft ▁stolz ▁auf ▁ihr ▁soziale s , ▁kulturelle s ▁und ▁historische s ▁xxmaj ▁erbe . ▁xxmaj ▁sie ▁sind ▁dort ▁nicht ▁nur ▁ geschäft lich ▁aktiv , ▁sondern ▁haben ▁sich ▁hohe ▁xxmaj ▁berufs qualifikation en ▁in ▁xxmaj ▁bereichen ▁wie ▁xxmaj</td>\n",
       "      <td>ter ro r istin , ▁wurde ▁allerdings ▁von ▁westlichen ▁xxmaj ▁kommen t atoren ▁praktisch ▁allgemein ▁zurück ge wiesen . ▁xxmaj ▁die ▁im ▁xxmaj ▁ausland ▁lebende ▁xxmaj ▁u ig ur en ▁sind ▁heute ▁oft ▁stolz ▁auf ▁ihr ▁soziale s , ▁kulturelle s ▁und ▁historische s ▁xxmaj ▁erbe . ▁xxmaj ▁sie ▁sind ▁dort ▁nicht ▁nur ▁ geschäft lich ▁aktiv , ▁sondern ▁haben ▁sich ▁hohe ▁xxmaj ▁berufs qualifikation en ▁in ▁xxmaj ▁bereichen ▁wie ▁xxmaj ▁</td>\n",
       "    </tr>\n",
       "    <tr>\n",
       "      <th>3</th>\n",
       "      <td>; ▁einige , ▁indem ▁sie ▁durch ▁die ▁xxmaj ▁kreis reform ▁mit ▁dem ▁xxmaj ▁haupt gebiet ▁des ▁xxmaj ▁landkreises ▁verbunden ▁wurden ▁( be uro n , ▁xxmaj ▁ thal heim ), ▁andere , ▁indem ▁sie ▁die ▁xxmaj ▁landkreis zugehörigkeit ▁wechselte n ▁( lang en en s lingen ). ▁xxmaj ▁auch ▁einige ▁weit ▁von ▁der ▁xxmaj ▁kreisstadt ▁entfernt e ▁xxmaj ▁gemeinden ▁fielen ▁zwischen ▁1969 ▁und ▁1975 ▁an ▁andere ▁xxmaj ▁landkreis e ▁( bi ber</td>\n",
       "      <td>▁einige , ▁indem ▁sie ▁durch ▁die ▁xxmaj ▁kreis reform ▁mit ▁dem ▁xxmaj ▁haupt gebiet ▁des ▁xxmaj ▁landkreises ▁verbunden ▁wurden ▁( be uro n , ▁xxmaj ▁ thal heim ), ▁andere , ▁indem ▁sie ▁die ▁xxmaj ▁landkreis zugehörigkeit ▁wechselte n ▁( lang en en s lingen ). ▁xxmaj ▁auch ▁einige ▁weit ▁von ▁der ▁xxmaj ▁kreisstadt ▁entfernt e ▁xxmaj ▁gemeinden ▁fielen ▁zwischen ▁1969 ▁und ▁1975 ▁an ▁andere ▁xxmaj ▁landkreis e ▁( bi ber ach</td>\n",
       "    </tr>\n",
       "    <tr>\n",
       "      <th>4</th>\n",
       "      <td>▁da selbst “. ▁xxmaj ▁bürgermeister ▁xxmaj ▁ s mid t ▁ weih te ▁die ▁\" große ▁xxmaj ▁kirche \" ▁am ▁22. ▁xxmaj ▁april ▁1855 ▁ein . ▁1855 ▁protest ierten ▁xxmaj ▁luther an er ▁und ▁xxmaj ▁reformiert e ▁gegen ▁die ▁xxmaj ▁wahl ▁des ▁frei sinnig en ▁xxmaj ▁pastor s ▁xxmaj ▁wolf ▁aus ▁xxmaj ▁kiel . ▁1856 ▁trat ▁xxmaj ▁wolf ▁seine ▁xxmaj ▁stelle ▁an . ▁xxmaj ▁die ▁erste ▁xxmaj ▁orgel ▁der ▁xxmaj ▁kirche ▁wurde</td>\n",
       "      <td>selbst “. ▁xxmaj ▁bürgermeister ▁xxmaj ▁ s mid t ▁ weih te ▁die ▁\" große ▁xxmaj ▁kirche \" ▁am ▁22. ▁xxmaj ▁april ▁1855 ▁ein . ▁1855 ▁protest ierten ▁xxmaj ▁luther an er ▁und ▁xxmaj ▁reformiert e ▁gegen ▁die ▁xxmaj ▁wahl ▁des ▁frei sinnig en ▁xxmaj ▁pastor s ▁xxmaj ▁wolf ▁aus ▁xxmaj ▁kiel . ▁1856 ▁trat ▁xxmaj ▁wolf ▁seine ▁xxmaj ▁stelle ▁an . ▁xxmaj ▁die ▁erste ▁xxmaj ▁orgel ▁der ▁xxmaj ▁kirche ▁wurde ▁von</td>\n",
       "    </tr>\n",
       "    <tr>\n",
       "      <th>5</th>\n",
       "      <td>▁das ▁xxmaj ▁brut areal ▁in ▁mehreren , ▁zum ▁xxmaj ▁teil ▁ sprung haften ▁xxmaj ▁ ausbreitung s wellen ▁nach ▁xxmaj ▁westen ▁und ▁xxmaj ▁südwesten ▁xxmaj ▁europas ▁erweitert . ▁xxmaj ▁für ▁die ▁xxmaj ▁ ausbreitung s wellen ▁ist ▁vermutlich ▁ein ▁hoher ▁xxmaj ▁brut erfolg ▁der ▁xxmaj ▁ population ▁durch ▁war me ▁und ▁trocken e ▁xxmaj ▁sommer monat e ▁verantwortlich . ▁xxmaj ▁zum ▁anderen ▁unterstützt ▁die ▁xxmaj ▁ ausbreitung ▁dieser ▁xxmaj ▁art ▁die ▁zunehmend</td>\n",
       "      <td>▁xxmaj ▁brut areal ▁in ▁mehreren , ▁zum ▁xxmaj ▁teil ▁ sprung haften ▁xxmaj ▁ ausbreitung s wellen ▁nach ▁xxmaj ▁westen ▁und ▁xxmaj ▁südwesten ▁xxmaj ▁europas ▁erweitert . ▁xxmaj ▁für ▁die ▁xxmaj ▁ ausbreitung s wellen ▁ist ▁vermutlich ▁ein ▁hoher ▁xxmaj ▁brut erfolg ▁der ▁xxmaj ▁ population ▁durch ▁war me ▁und ▁trocken e ▁xxmaj ▁sommer monat e ▁verantwortlich . ▁xxmaj ▁zum ▁anderen ▁unterstützt ▁die ▁xxmaj ▁ ausbreitung ▁dieser ▁xxmaj ▁art ▁die ▁zunehmend e</td>\n",
       "    </tr>\n",
       "    <tr>\n",
       "      <th>6</th>\n",
       "      <td>▁kultur en ▁zur ▁xxmaj ▁des integr ation ▁oder ▁xxmaj ▁an pass ung ▁der ▁eigenen ▁xxmaj ▁kultur ▁geführt ▁hatte , ▁führte ▁dann ▁als ▁xxmaj ▁ risiko s zen ario ▁in ▁den ▁1980 er - jahren ▁auch ▁zu ▁praktisch en ▁xxmaj ▁ experiment en ▁in ▁xxmaj ▁form ▁von ▁xxmaj ▁rollen spielen , ▁die ▁zur ▁praktisch en ▁xxmaj ▁vorbereitung ▁und ▁xxmaj ▁ gewinnung ▁von ▁xxmaj ▁erkenntnisse n ▁über ▁die ▁„ hu man ▁ res pon</td>\n",
       "      <td>en ▁zur ▁xxmaj ▁des integr ation ▁oder ▁xxmaj ▁an pass ung ▁der ▁eigenen ▁xxmaj ▁kultur ▁geführt ▁hatte , ▁führte ▁dann ▁als ▁xxmaj ▁ risiko s zen ario ▁in ▁den ▁1980 er - jahren ▁auch ▁zu ▁praktisch en ▁xxmaj ▁ experiment en ▁in ▁xxmaj ▁form ▁von ▁xxmaj ▁rollen spielen , ▁die ▁zur ▁praktisch en ▁xxmaj ▁vorbereitung ▁und ▁xxmaj ▁ gewinnung ▁von ▁xxmaj ▁erkenntnisse n ▁über ▁die ▁„ hu man ▁ res pon se</td>\n",
       "    </tr>\n",
       "    <tr>\n",
       "      <th>7</th>\n",
       "      <td>▁es ▁auf ▁dem ▁europäischen ▁xxmaj ▁ kontinent ▁in ▁der ▁finnischen ▁xxmaj ▁ mythologi e ▁vor , ▁auf ▁dem ▁afrikanischen ▁xxmaj ▁ kontinent ▁in ▁der ▁alt ägyptische n ▁her mo polit anischen ▁xxmaj ▁ kosmo gon ie ▁sowie ▁in ▁den ▁xxmaj ▁ mythologi en ▁der ▁xxmaj ▁b amba ra ▁und ▁xxmaj ▁dog on ▁in ▁xxmaj ▁mal i . ▁xxmaj ▁in ▁xxmaj ▁ asien ▁ist ▁es ▁xxmaj ▁teil ▁der ▁xxmaj ▁ mythologi e ▁der</td>\n",
       "      <td>▁auf ▁dem ▁europäischen ▁xxmaj ▁ kontinent ▁in ▁der ▁finnischen ▁xxmaj ▁ mythologi e ▁vor , ▁auf ▁dem ▁afrikanischen ▁xxmaj ▁ kontinent ▁in ▁der ▁alt ägyptische n ▁her mo polit anischen ▁xxmaj ▁ kosmo gon ie ▁sowie ▁in ▁den ▁xxmaj ▁ mythologi en ▁der ▁xxmaj ▁b amba ra ▁und ▁xxmaj ▁dog on ▁in ▁xxmaj ▁mal i . ▁xxmaj ▁in ▁xxmaj ▁ asien ▁ist ▁es ▁xxmaj ▁teil ▁der ▁xxmaj ▁ mythologi e ▁der ▁xxmaj</td>\n",
       "    </tr>\n",
       "    <tr>\n",
       "      <th>8</th>\n",
       "      <td>▁wusste ▁sich ▁der ▁xxmaj ▁des ert eur ▁sich er , ▁wenn ▁die ▁xxmaj ▁land jäger ▁ihn ▁ fass en ▁wollten . ▁xxmaj ▁wenn ▁es ▁im ▁xxmaj ▁sommer ▁ genügend ▁xxmaj ▁arbeit ▁gab , ▁ver ding te ▁er ▁sich ▁bei ▁den ▁xxmaj ▁ eber s berger ▁xxmaj ▁bauern . ▁xxmaj ▁als ▁er ▁sich ▁selbst ▁nicht ▁mehr ▁durch bringen ▁konnte , ▁fand ▁er ▁xxmaj ▁unter schlu pf ▁in ▁dem ▁xxmaj ▁ boh n schen</td>\n",
       "      <td>▁sich ▁der ▁xxmaj ▁des ert eur ▁sich er , ▁wenn ▁die ▁xxmaj ▁land jäger ▁ihn ▁ fass en ▁wollten . ▁xxmaj ▁wenn ▁es ▁im ▁xxmaj ▁sommer ▁ genügend ▁xxmaj ▁arbeit ▁gab , ▁ver ding te ▁er ▁sich ▁bei ▁den ▁xxmaj ▁ eber s berger ▁xxmaj ▁bauern . ▁xxmaj ▁als ▁er ▁sich ▁selbst ▁nicht ▁mehr ▁durch bringen ▁konnte , ▁fand ▁er ▁xxmaj ▁unter schlu pf ▁in ▁dem ▁xxmaj ▁ boh n schen ,</td>\n",
       "    </tr>\n",
       "  </tbody>\n",
       "</table>"
      ],
      "text/plain": [
       "<IPython.core.display.HTML object>"
      ]
     },
     "metadata": {},
     "output_type": "display_data"
    }
   ],
   "source": [
    "dls.show_batch()"
   ]
  },
  {
   "cell_type": "code",
   "execution_count": 7,
   "metadata": {},
   "outputs": [
    {
     "data": {
      "text/plain": [
       "(21976, 2441)"
      ]
     },
     "execution_count": 7,
     "metadata": {},
     "output_type": "execute_result"
    }
   ],
   "source": [
    "len(dls.train), len(dls.valid)"
   ]
  },
  {
   "cell_type": "code",
   "execution_count": 8,
   "metadata": {},
   "outputs": [],
   "source": [
    "learn = language_model_learner(dls, AWD_LSTM, drop_mult=0.5, pretrained=False, \n",
    "                               metrics=[accuracy, Perplexity()]).to_native_fp16()\n",
    "learn.path = model_path.absolute()"
   ]
  },
  {
   "cell_type": "code",
   "execution_count": 9,
   "metadata": {},
   "outputs": [
    {
     "data": {
      "text/html": [],
      "text/plain": [
       "<IPython.core.display.HTML object>"
      ]
     },
     "metadata": {},
     "output_type": "display_data"
    },
    {
     "data": {
      "text/plain": [
       "SuggestedLRs(lr_min=0.04365158379077912, lr_steep=0.005248074419796467)"
      ]
     },
     "execution_count": 9,
     "metadata": {},
     "output_type": "execute_result"
    },
    {
     "data": {
      "image/png": "[encoded data removed]",
      "text/plain": [
       "<Figure size 432x288 with 1 Axes>"
      ]
     },
     "metadata": {
      "needs_background": "light"
     },
     "output_type": "display_data"
    }
   ],
   "source": [
    "learn.lr_find()"
   ]
  },
  {
   "cell_type": "code",
   "execution_count": 10,
   "metadata": {},
   "outputs": [],
   "source": [
    "lr = 1e-2\n",
    "#lr *= bs/48  # Scale learning rate by batch size"
   ]
  },
  {
   "cell_type": "code",
   "execution_count": 11,
   "metadata": {},
   "outputs": [],
   "source": [
    "cbs=[CSVLogger(fname='history_de_wikitext.csv')]"
   ]
  },
  {
   "cell_type": "code",
   "execution_count": 12,
   "metadata": {},
   "outputs": [
    {
     "data": {
      "text/html": [
       "<table border=\"1\" class=\"dataframe\">\n",
       "  <thead>\n",
       "    <tr style=\"text-align: left;\">\n",
       "      <th>epoch</th>\n",
       "      <th>train_loss</th>\n",
       "      <th>valid_loss</th>\n",
       "      <th>accuracy</th>\n",
       "      <th>perplexity</th>\n",
       "      <th>time</th>\n",
       "    </tr>\n",
       "  </thead>\n",
       "  <tbody>\n",
       "    <tr>\n",
       "      <td>0</td>\n",
       "      <td>3.491210</td>\n",
       "      <td>3.360344</td>\n",
       "      <td>0.394781</td>\n",
       "      <td>28.799093</td>\n",
       "      <td>20:56</td>\n",
       "    </tr>\n",
       "    <tr>\n",
       "      <td>1</td>\n",
       "      <td>3.389615</td>\n",
       "      <td>3.340474</td>\n",
       "      <td>0.394656</td>\n",
       "      <td>28.232515</td>\n",
       "      <td>20:47</td>\n",
       "    </tr>\n",
       "    <tr>\n",
       "      <td>2</td>\n",
       "      <td>3.310051</td>\n",
       "      <td>3.277328</td>\n",
       "      <td>0.401543</td>\n",
       "      <td>26.504864</td>\n",
       "      <td>20:48</td>\n",
       "    </tr>\n",
       "    <tr>\n",
       "      <td>3</td>\n",
       "      <td>3.270640</td>\n",
       "      <td>3.213796</td>\n",
       "      <td>0.408567</td>\n",
       "      <td>24.873329</td>\n",
       "      <td>20:47</td>\n",
       "    </tr>\n",
       "    <tr>\n",
       "      <td>4</td>\n",
       "      <td>3.206456</td>\n",
       "      <td>3.151273</td>\n",
       "      <td>0.415742</td>\n",
       "      <td>23.365786</td>\n",
       "      <td>20:41</td>\n",
       "    </tr>\n",
       "    <tr>\n",
       "      <td>5</td>\n",
       "      <td>3.157404</td>\n",
       "      <td>3.077765</td>\n",
       "      <td>0.424118</td>\n",
       "      <td>21.709837</td>\n",
       "      <td>20:44</td>\n",
       "    </tr>\n",
       "    <tr>\n",
       "      <td>6</td>\n",
       "      <td>3.126297</td>\n",
       "      <td>2.988825</td>\n",
       "      <td>0.434607</td>\n",
       "      <td>19.862331</td>\n",
       "      <td>20:41</td>\n",
       "    </tr>\n",
       "    <tr>\n",
       "      <td>7</td>\n",
       "      <td>3.074163</td>\n",
       "      <td>2.904022</td>\n",
       "      <td>0.445423</td>\n",
       "      <td>18.247379</td>\n",
       "      <td>20:36</td>\n",
       "    </tr>\n",
       "    <tr>\n",
       "      <td>8</td>\n",
       "      <td>3.025664</td>\n",
       "      <td>2.835042</td>\n",
       "      <td>0.454509</td>\n",
       "      <td>17.031111</td>\n",
       "      <td>20:51</td>\n",
       "    </tr>\n",
       "    <tr>\n",
       "      <td>9</td>\n",
       "      <td>2.997728</td>\n",
       "      <td>2.813907</td>\n",
       "      <td>0.457528</td>\n",
       "      <td>16.674938</td>\n",
       "      <td>20:36</td>\n",
       "    </tr>\n",
       "  </tbody>\n",
       "</table>"
      ],
      "text/plain": [
       "<IPython.core.display.HTML object>"
      ]
     },
     "metadata": {},
     "output_type": "display_data"
    },
    {
     "name": "stderr",
     "output_type": "stream",
     "text": [
      "IOPub message rate exceeded.\n",
      "The notebook server will temporarily stop sending output\n",
      "to the client in order to avoid crashing it.\n",
      "To change this limit, set the config variable\n",
      "`--NotebookApp.iopub_msg_rate_limit`.\n",
      "\n",
      "Current values:\n",
      "NotebookApp.iopub_msg_rate_limit=1000.0 (msgs/sec)\n",
      "NotebookApp.rate_limit_window=3.0 (secs)\n",
      "\n",
      "IOPub message rate exceeded.\n",
      "The notebook server will temporarily stop sending output\n",
      "to the client in order to avoid crashing it.\n",
      "To change this limit, set the config variable\n",
      "`--NotebookApp.iopub_msg_rate_limit`.\n",
      "\n",
      "Current values:\n",
      "NotebookApp.iopub_msg_rate_limit=1000.0 (msgs/sec)\n",
      "NotebookApp.rate_limit_window=3.0 (secs)\n",
      "\n"
     ]
    }
   ],
   "source": [
    "learn.unfreeze()\n",
    "learn.fit_one_cycle(10, lr, cbs=cbs, moms=(0.8, 0.7, 0.8))"
   ]
  },
  {
   "cell_type": "code",
   "execution_count": null,
   "metadata": {},
   "outputs": [],
   "source": [
    "lm_fns = [model_path/f'{lang}_wikitext', model_path/f'{lang}_wikitext_vocab.pkl']"
   ]
  },
  {
   "cell_type": "code",
   "execution_count": 17,
   "metadata": {},
   "outputs": [
    {
     "data": {
      "text/plain": [
       "Path('/data/projects/git/fastai_ulmfit_german/data/dewiki_lstm_15k/model/de_wikitext.pth')"
      ]
     },
     "execution_count": 17,
     "metadata": {},
     "output_type": "execute_result"
    }
   ],
   "source": [
    "learn.to_fp32().save(lm_fns[0].absolute(), with_opt=False)"
   ]
  },
  {
   "cell_type": "code",
   "execution_count": 18,
   "metadata": {},
   "outputs": [],
   "source": [
    "with open(lm_fns[1], 'wb') as f:\n",
    "      pickle.dump(learn.dls.vocab, f)"
   ]
  },
  {
   "cell_type": "code",
   "execution_count": null,
   "metadata": {},
   "outputs": [],
   "source": []
  }
 ],
 "metadata": {
  "kernelspec": {
   "display_name": "fastai",
   "language": "python",
   "name": "fastai"
  },
  "language_info": {
   "codemirror_mode": {
    "name": "ipython",
    "version": 3
   },
   "file_extension": ".py",
   "mimetype": "text/x-python",
   "name": "python",
   "nbconvert_exporter": "python",
   "pygments_lexer": "ipython3",
   "version": "3.8.5"
  }
 },
 "nbformat": 4,
 "nbformat_minor": 4
}

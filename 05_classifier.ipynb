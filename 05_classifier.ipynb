{
 "cells": [
  {
   "cell_type": "code",
   "execution_count": 1,
   "metadata": {},
   "outputs": [],
   "source": [
    "from fastai.text.all import *"
   ]
  },
  {
   "cell_type": "code",
   "execution_count": 2,
   "metadata": {},
   "outputs": [],
   "source": [
    "lang = 'de'\n",
    "model_path = Path(f'{Path(\".\").absolute()}/data/model')\n",
    "path = Path('data')\n",
    "lm_ft_fns = [model_path/f'{lang}_ft', model_path/f'{lang}_ft_vocab']"
   ]
  },
  {
   "cell_type": "code",
   "execution_count": 3,
   "metadata": {},
   "outputs": [],
   "source": [
    "bs = 64"
   ]
  },
  {
   "cell_type": "markdown",
   "metadata": {},
   "source": [
    "## Prepare classifier dataset"
   ]
  },
  {
   "cell_type": "code",
   "execution_count": 4,
   "metadata": {},
   "outputs": [],
   "source": [
    "names = ['text','label','label1,']"
   ]
  },
  {
   "cell_type": "code",
   "execution_count": 5,
   "metadata": {},
   "outputs": [],
   "source": [
    "df_train = pd.read_csv(path/'germeval2018/germeval2018.training.txt',\n",
    "                sep ='\\t', names=names)"
   ]
  },
  {
   "cell_type": "code",
   "execution_count": 6,
   "metadata": {},
   "outputs": [],
   "source": [
    "df_train['is_valid'] = False"
   ]
  },
  {
   "cell_type": "code",
   "execution_count": 7,
   "metadata": {},
   "outputs": [],
   "source": [
    "df_valid = pd.read_csv(path/'germeval2018/germeval2018.test.txt',\n",
    "                sep ='\\t', names=names)"
   ]
  },
  {
   "cell_type": "code",
   "execution_count": 8,
   "metadata": {},
   "outputs": [],
   "source": [
    "df_valid['is_valid'] = True"
   ]
  },
  {
   "cell_type": "code",
   "execution_count": 9,
   "metadata": {},
   "outputs": [],
   "source": [
    "df = pd.concat([df_train, df_valid])"
   ]
  },
  {
   "cell_type": "markdown",
   "metadata": {},
   "source": [
    "## Train model"
   ]
  },
  {
   "cell_type": "code",
   "execution_count": 10,
   "metadata": {},
   "outputs": [],
   "source": [
    "tok = SentencePieceTokenizer(lang=lang, sp_model=model_path/'spm_de_ft/spm.model')"
   ]
  },
  {
   "cell_type": "code",
   "execution_count": 11,
   "metadata": {},
   "outputs": [],
   "source": [
    "with open(f'{lm_ft_fns[1]}.pkl', 'rb') as f:\n",
    "      vocab = pickle.load(f)"
   ]
  },
  {
   "cell_type": "code",
   "execution_count": 12,
   "metadata": {},
   "outputs": [
    {
     "data": {
      "text/html": [],
      "text/plain": [
       "<IPython.core.display.HTML object>"
      ]
     },
     "metadata": {},
     "output_type": "display_data"
    },
    {
     "name": "stderr",
     "output_type": "stream",
     "text": [
      "/home/florian/miniconda3/envs/fastai/lib/python3.8/site-packages/numpy/core/_asarray.py:83: VisibleDeprecationWarning: Creating an ndarray from ragged nested sequences (which is a list-or-tuple of lists-or-tuples-or ndarrays with different lengths or shapes) is deprecated. If you meant to do this, you must specify 'dtype=object' when creating the ndarray\n",
      "  return array(a, dtype, copy=False, order=order)\n"
     ]
    }
   ],
   "source": [
    "dblocks = DataBlock(blocks=(TextBlock.from_df('text', tok=tok, vocab=vocab), CategoryBlock),\n",
    "                    get_x=ColReader('text'),\n",
    "                    get_y=ColReader('label'), \n",
    "                    splitter=ColSplitter())\n",
    "dls = dblocks.dataloaders(df)"
   ]
  },
  {
   "cell_type": "code",
   "execution_count": 13,
   "metadata": {},
   "outputs": [
    {
     "data": {
      "text/html": [
       "<table border=\"1\" class=\"dataframe\">\n",
       "  <thead>\n",
       "    <tr style=\"text-align: right;\">\n",
       "      <th></th>\n",
       "      <th>text</th>\n",
       "      <th>category</th>\n",
       "    </tr>\n",
       "  </thead>\n",
       "  <tbody>\n",
       "    <tr>\n",
       "      <th>0</th>\n",
       "      <td>▁xxbos ▁@ machtjanix 23 ▁@ schneeridara ▁@ kr eb bi ▁@ queeniepi ▁@ vergangenheit 17 ▁@ m x lo la 5 ▁@ la z ar us 06 ▁@ lars 959 6 ▁@ heinrich heine 12 ▁@ kokolores 20 ▁@ dunkel denk ▁@ kreativ design 1 ▁@ em ili ac 32 ▁@ die ba ju waren ▁@ lawyerberlin ▁@ s bu nners ▁@ twittonium ▁@ ey svog 3 l ▁@ gun nar _ rich ert ▁@ so rt ex ▁@ loriotfehlt ▁@ nasanasal ▁@ norb inator 2403 ▁@ troll _ putin ▁@ lc 180 ▁xxrep ▁3 ▁6 ▁@ ve spasi anus 69 bc ▁@ xx 7 ni tro 1 xx ▁@ t bg steph en ▁xxmaj ▁dazu ▁braucht ▁es ▁erst ▁einmal ▁eine ▁andere ▁xxmaj ▁ bezeichnung . ▁\" rechts \" ▁ist ▁derart ▁negativ ▁ ko n not iert . ▁xxmaj ▁ich ▁persönlich ▁denke ▁sowieso ▁nicht ▁in ▁diesen ▁xxmaj ▁schublade n ,</td>\n",
       "      <td>OTHER</td>\n",
       "    </tr>\n",
       "    <tr>\n",
       "      <th>1</th>\n",
       "      <td>▁xxbos ▁@ felden f rizz ▁@ wo j tek thomalla ▁@ _ macmike ▁@ nawrat anna ▁@ athin a mala ▁@ charlie _ silve ▁@ pe tpanther 0 ▁@ musta pha mond ah ▁@ sjw _ madbunny ▁@ master m ikeg ▁@ machtjanix 23 ▁@ spadecarrier ▁@ steffmann 45 ▁@ troll _ putin ▁@ norb inator 2403 ▁@ en nof _ ▁@ n ancy peg gym andy ▁@ info 2099 ▁@ life trend ▁@ thomasgbauer ▁@ schmid die maik ▁@ noherrman ▁@ will j rosen blatt ▁@ nasanasal ▁@ ellibisathide ▁@ md _ franz ▁@ youtube ▁xxmaj ▁es ▁war ▁wichtig , ▁zuerst ▁das ▁alte ▁xxmaj ▁europa ▁zu ▁zerstören , ▁da ▁sitzt ▁die ▁meist e ▁xxmaj ▁intelligenz ▁ - ▁ist ▁es ▁völlig ▁zerstört ▁und ▁mit ▁xxup ▁iq ▁90 ▁auf gefüllt , ▁kommt ▁der ▁xxmaj ▁rest ▁dran . ▁xxmaj ▁die ▁machen ▁weniger ▁xxmaj ▁probleme . ▁xxmaj ▁einfach ▁und ▁simpel . ▁ 2</td>\n",
       "      <td>OTHER</td>\n",
       "    </tr>\n",
       "    <tr>\n",
       "      <th>2</th>\n",
       "      <td>▁xxbos ▁xxmaj ▁zum ▁xxmaj ▁ le b zelt en ▁xxmaj ▁ ta ig ▁ n im bt ▁man ▁| lbr | ▁20 ▁xxmaj ▁maß ▁xxmaj ▁ h ö n ig , ▁ 2 ▁xxmaj ▁maß ▁xxmaj ▁wasser , ▁ last s ▁| lbr | ▁ ain ▁ gu ette ▁xxmaj ▁ st und t ▁sie den , ▁xxmaj ▁ge wir z ▁| lbr | ▁da rein , ▁8 ▁halb ▁xxmaj ▁vier ling ▁xxmaj ▁im ber , ▁| lbr | ▁8 ▁mal ▁3 ▁xxmaj ▁lott ▁xxmaj ▁ pfeffer , ▁8 ▁xxmaj ▁lott ▁xxmaj ▁ zi me t , ▁| lbr | ▁8 ▁xxmaj ▁lott ▁xxmaj ▁ mus ga t n us , ▁8 ▁halbe ▁xxmaj ▁lott ▁xxmaj ▁ nä gl , ▁| lbr | ▁ ä nis ▁1 xxunk 2 ▁xxmaj ▁lott , ▁xxmaj ▁ cor ian der ▁1 xxunk 2 ▁xxmaj ▁lott . ▁| lbr | ▁xxmaj ▁di s es</td>\n",
       "      <td>OTHER</td>\n",
       "    </tr>\n",
       "    <tr>\n",
       "      <th>3</th>\n",
       "      <td>▁xxbos ▁@ wo j tek thomalla ▁@ _ macmike ▁@ nawrat anna ▁@ athin a mala ▁@ charlie _ silve ▁@ pe tpanther 0 ▁@ musta pha mond ah ▁@ sjw _ madbunny ▁@ master m ikeg ▁@ machtjanix 23 ▁@ spadecarrier ▁@ steffmann 45 ▁@ troll _ putin ▁@ norb inator 2403 ▁@ en nof _ ▁@ n ancy peg gym andy ▁@ info 2099 ▁@ life trend ▁@ thomasgbauer ▁@ schmid die maik ▁@ noherrman ▁@ will j rosen blatt ▁@ felden f rizz ▁@ nasanasal ▁@ ellibisathide ▁@ md _ franz ▁@ youtube ▁xxmaj ▁ihn ▁direkt ▁könnte ▁man ▁das ▁auch ▁fragen ! ▁xxmaj ▁stattdessen ▁ glo tz en ▁die ▁xxmaj ▁leute ▁lieber ▁ zer str eu ende ▁xxmaj ▁unterhaltung , ▁das ▁ str en gt ▁auch ▁nicht ▁an . ▁xxmaj ▁bildung ▁ist ▁xxmaj ▁arbeit . ▁xxmaj ▁ er ▁hält ▁das ▁xxmaj ▁volk ▁mit ▁ billigen ▁xxmaj ▁spiel</td>\n",
       "      <td>OTHER</td>\n",
       "    </tr>\n",
       "    <tr>\n",
       "      <th>4</th>\n",
       "      <td>▁xxbos ▁@ machtjanix 23 ▁@ norb inator 2403 ▁@ en nof _ ▁@ athin a mala ▁@ troll _ putin ▁@ n ancy peg gym andy ▁@ pe tpanther 0 ▁@ info 2099 ▁@ life trend ▁@ thomasgbauer ▁@ schmid die maik ▁@ charlie _ silve ▁@ noherrman ▁@ will j rosen blatt ▁@ felden f rizz ▁@ nasanasal ▁@ _ macmike ▁@ ellibisathide ▁@ md _ franz ▁xxmaj ▁ oho ▁ - ▁xxmaj ▁be drohung ▁für ▁ein ▁international ▁erhält lich es ▁xxmaj ▁buch ▁ ! lä cher lich . ▁xxmaj ▁passt ▁xxmaj ▁ihnen ▁wohl ▁auch ▁nicht , ▁die ▁xxmaj ▁nach weise ▁aus ▁xxmaj ▁israels ▁xxmaj ▁ geburten abteilung . ▁xxup ▁ps ▁xxmaj ▁ er ▁hat ▁nicht ▁den ▁xxmaj ▁holocaust ▁ge le u g net , ▁den ▁gab ▁es , ▁aber ▁die ▁xxmaj ▁zahl ▁stimmt e ▁nicht , ▁das ▁hat ▁ er ▁nachgewiesen .</td>\n",
       "      <td>OTHER</td>\n",
       "    </tr>\n",
       "    <tr>\n",
       "      <th>5</th>\n",
       "      <td>▁xxbos ▁@ wo j tek thomalla ▁@ _ macmike ▁@ nawrat anna ▁@ athin a mala ▁@ charlie _ silve ▁@ pe tpanther 0 ▁@ musta pha mond ah ▁@ sjw _ madbunny ▁@ master m ikeg ▁@ machtjanix 23 ▁@ spadecarrier ▁@ steffmann 45 ▁@ troll _ putin ▁@ norb inator 2403 ▁@ en nof _ ▁@ n ancy peg gym andy ▁@ info 2099 ▁@ life trend ▁@ thomasgbauer ▁@ schmid die maik ▁@ noherrman ▁@ will j rosen blatt ▁@ felden f rizz ▁@ nasanasal ▁@ ellibisathide ▁@ md _ franz ▁@ youtube ▁xxmaj ▁darf ▁man ▁fragen , ▁warum ▁der ▁xxmaj ▁schlau meier ▁auf ▁dem ▁xxmaj ▁ bild ▁sich ▁nicht ▁für ▁euch ▁in ▁d ▁einsetzt ? ▁xxmaj ▁mit ▁seinem ▁xxmaj ▁wissen ▁könnte ▁ er ▁das ▁ - ▁warum ▁tut ▁ er ▁es ▁nicht ? ▁xxmaj ▁schonmal ▁darüber ▁nachgedacht ?</td>\n",
       "      <td>OTHER</td>\n",
       "    </tr>\n",
       "    <tr>\n",
       "      <th>6</th>\n",
       "      <td>▁xxbos ▁@ sjw _ madbunny ▁@ pe tpanther 0 ▁@ machtjanix 23 ▁@ steffmann 45 ▁@ troll _ putin ▁@ master m ikeg ▁@ norb inator 2403 ▁@ en nof _ ▁@ athin a mala ▁@ n ancy peg gym andy ▁@ info 2099 ▁@ life trend ▁@ thomasgbauer ▁@ schmid die maik ▁@ charlie _ silve ▁@ noherrman ▁@ will j rosen blatt ▁@ felden f rizz ▁@ nasanasal ▁@ _ macmike ▁@ ellibisathide ▁@ md _ franz ▁xxmaj ▁ist ▁schon ▁verrückt , ▁im ▁xxmaj ▁wohn wagen ▁ lagen ▁über ▁30 ▁xxmaj ▁waffen ▁und ▁man ▁entscheidet ▁sich ▁für ▁ein ▁xxmaj ▁ re pe tier ge wehr . ▁xxmaj ▁um st ä n dlich er ▁gehts ▁nicht ▁und ▁dann ▁noch ▁alles ▁in ▁20 ▁ s . ▁xxmaj ▁in cl . ▁xxmaj ▁ brand le g ung . ▁xxup ▁lol</td>\n",
       "      <td>OTHER</td>\n",
       "    </tr>\n",
       "    <tr>\n",
       "      <th>7</th>\n",
       "      <td>▁xxbos ▁@ spadecarrier ▁@ machtjanix 23 ▁@ athin a mala ▁@ _ macmike ▁@ magn a _ est ▁@ pe tpanther 0 ▁@ noherrman ▁@ t eite 99 ▁@ info 2099 ▁@ life trend ▁@ thomasgbauer ▁@ schmid die maik ▁@ charlie _ silve ▁@ will j rosen blatt ▁@ felden f rizz ▁@ nasanasal ▁@ ellibisathide ▁@ md _ franz ▁xxmaj ▁wenn ▁ihr ▁alle ▁xxmaj ▁zeit ▁habt , ▁euch ▁mit ▁xxmaj ▁ao ` s ▁xxmaj ▁ne g ierung en ▁aller ▁xxmaj ▁fakten ▁zu ▁beschäftigen ▁ - ▁bitte schön , ▁ich ▁kann ▁jede ▁xxmaj ▁ min u te ▁nur ▁einmal ▁nutzen ▁und ▁die ▁\" konver s ation en \" ▁mit ▁xxmaj ▁ao ▁ist ▁xxmaj ▁beschäftig ungs therapie ▁auf ▁xxup ▁iq ▁90 ▁ - niveau . ▁xxmaj ▁solche ▁xxmaj ▁leute ▁habe ▁ich ▁schon ▁immer ▁ge mie den ▁ .</td>\n",
       "      <td>OFFENSE</td>\n",
       "    </tr>\n",
       "    <tr>\n",
       "      <th>8</th>\n",
       "      <td>▁xxbos ▁@ steffmann 45 ▁@ troll _ putin ▁@ pe tpanther 0 ▁@ master m ikeg ▁@ machtjanix 23 ▁@ norb inator 2403 ▁@ en nof _ ▁@ athin a mala ▁@ n ancy peg gym andy ▁@ info 2099 ▁@ life trend ▁@ thomasgbauer ▁@ schmid die maik ▁@ charlie _ silve ▁@ noherrman ▁@ will j rosen blatt ▁@ felden f rizz ▁@ nasanasal ▁@ _ macmike ▁@ ellibisathide ▁@ md _ franz ▁übrigens ▁gab ▁es ▁auch ▁keine ▁xxmaj ▁finger ab drücke ▁an ▁der ▁xxmaj ▁ waffe , ▁ebenso ▁gab ▁es ▁an ▁27 ▁xxmaj ▁tatort en ▁keine ▁xxup ▁d na ▁ - ▁das ▁ist ▁kriminalist isch ▁völlig ▁unmöglich . ▁xxmaj ▁ru ß ▁in ▁der ▁xxmaj ▁lunge ▁und ▁xxmaj ▁co 2 ▁im ▁xxmaj ▁herz blut ▁wären ▁zwingen d ▁erforderlich ▁gewesen ▁ - ▁gab ▁es ▁aber ▁nicht .</td>\n",
       "      <td>OTHER</td>\n",
       "    </tr>\n",
       "  </tbody>\n",
       "</table>"
      ],
      "text/plain": [
       "<IPython.core.display.HTML object>"
      ]
     },
     "metadata": {},
     "output_type": "display_data"
    }
   ],
   "source": [
    "dls.show_batch()"
   ]
  },
  {
   "cell_type": "code",
   "execution_count": 14,
   "metadata": {},
   "outputs": [
    {
     "data": {
      "text/plain": [
       "['OFFENSE', 'OTHER']"
      ]
     },
     "execution_count": 14,
     "metadata": {},
     "output_type": "execute_result"
    }
   ],
   "source": [
    "dls.vocab[1]"
   ]
  },
  {
   "cell_type": "code",
   "execution_count": 15,
   "metadata": {},
   "outputs": [
    {
     "data": {
      "text/plain": [
       "(78, 54)"
      ]
     },
     "execution_count": 15,
     "metadata": {},
     "output_type": "execute_result"
    }
   ],
   "source": [
    "len(dls.train), len(dls.valid)"
   ]
  },
  {
   "cell_type": "code",
   "execution_count": 22,
   "metadata": {},
   "outputs": [],
   "source": [
    "learn = text_classifier_learner(dls, AWD_LSTM, drop_mult=0.5, pretrained=False, \n",
    "                               metrics=[accuracy]).to_native_fp16()\n",
    "learn.path = model_path"
   ]
  },
  {
   "cell_type": "code",
   "execution_count": 23,
   "metadata": {},
   "outputs": [
    {
     "data": {
      "text/plain": [
       "<fastai.text.learner.TextLearner at 0x7f97bfb7edc0>"
      ]
     },
     "execution_count": 23,
     "metadata": {},
     "output_type": "execute_result"
    }
   ],
   "source": [
    "learn.load_encoder(model_path/'de_ft_encoder')"
   ]
  },
  {
   "cell_type": "code",
   "execution_count": 18,
   "metadata": {},
   "outputs": [
    {
     "data": {
      "text/html": [],
      "text/plain": [
       "<IPython.core.display.HTML object>"
      ]
     },
     "metadata": {},
     "output_type": "display_data"
    },
    {
     "data": {
      "text/plain": [
       "SuggestedLRs(lr_min=0.03630780577659607, lr_steep=0.004365158267319202)"
      ]
     },
     "execution_count": 18,
     "metadata": {},
     "output_type": "execute_result"
    },
    {
     "data": {
      "image/png": "[encoded data removed]",
      "text/plain": [
       "<Figure size 432x288 with 1 Axes>"
      ]
     },
     "metadata": {
      "needs_background": "light"
     },
     "output_type": "display_data"
    }
   ],
   "source": [
    "learn.lr_find()"
   ]
  },
  {
   "cell_type": "code",
   "execution_count": 24,
   "metadata": {},
   "outputs": [],
   "source": [
    "lr = 3e-2"
   ]
  },
  {
   "cell_type": "code",
   "execution_count": 25,
   "metadata": {},
   "outputs": [
    {
     "data": {
      "text/html": [
       "<table border=\"1\" class=\"dataframe\">\n",
       "  <thead>\n",
       "    <tr style=\"text-align: left;\">\n",
       "      <th>epoch</th>\n",
       "      <th>train_loss</th>\n",
       "      <th>valid_loss</th>\n",
       "      <th>accuracy</th>\n",
       "      <th>time</th>\n",
       "    </tr>\n",
       "  </thead>\n",
       "  <tbody>\n",
       "    <tr>\n",
       "      <td>0</td>\n",
       "      <td>0.600348</td>\n",
       "      <td>0.717281</td>\n",
       "      <td>0.733961</td>\n",
       "      <td>00:03</td>\n",
       "    </tr>\n",
       "  </tbody>\n",
       "</table>"
      ],
      "text/plain": [
       "<IPython.core.display.HTML object>"
      ]
     },
     "metadata": {},
     "output_type": "display_data"
    },
    {
     "data": {
      "text/html": [
       "<table border=\"1\" class=\"dataframe\">\n",
       "  <thead>\n",
       "    <tr style=\"text-align: left;\">\n",
       "      <th>epoch</th>\n",
       "      <th>train_loss</th>\n",
       "      <th>valid_loss</th>\n",
       "      <th>accuracy</th>\n",
       "      <th>time</th>\n",
       "    </tr>\n",
       "  </thead>\n",
       "  <tbody>\n",
       "    <tr>\n",
       "      <td>0</td>\n",
       "      <td>0.517252</td>\n",
       "      <td>0.545358</td>\n",
       "      <td>0.755444</td>\n",
       "      <td>00:04</td>\n",
       "    </tr>\n",
       "    <tr>\n",
       "      <td>1</td>\n",
       "      <td>0.450194</td>\n",
       "      <td>0.541568</td>\n",
       "      <td>0.765156</td>\n",
       "      <td>00:04</td>\n",
       "    </tr>\n",
       "    <tr>\n",
       "      <td>2</td>\n",
       "      <td>0.332860</td>\n",
       "      <td>0.699287</td>\n",
       "      <td>0.750441</td>\n",
       "      <td>00:04</td>\n",
       "    </tr>\n",
       "    <tr>\n",
       "      <td>3</td>\n",
       "      <td>0.219455</td>\n",
       "      <td>0.861101</td>\n",
       "      <td>0.772808</td>\n",
       "      <td>00:04</td>\n",
       "    </tr>\n",
       "    <tr>\n",
       "      <td>4</td>\n",
       "      <td>0.146751</td>\n",
       "      <td>0.881636</td>\n",
       "      <td>0.778693</td>\n",
       "      <td>00:04</td>\n",
       "    </tr>\n",
       "  </tbody>\n",
       "</table>"
      ],
      "text/plain": [
       "<IPython.core.display.HTML object>"
      ]
     },
     "metadata": {},
     "output_type": "display_data"
    }
   ],
   "source": [
    "learn.fine_tune(5, lr)"
   ]
  },
  {
   "cell_type": "code",
   "execution_count": 26,
   "metadata": {},
   "outputs": [
    {
     "data": {
      "image/png": "[encoded data removed]",
      "text/plain": [
       "<Figure size 432x288 with 1 Axes>"
      ]
     },
     "metadata": {
      "needs_background": "light"
     },
     "output_type": "display_data"
    }
   ],
   "source": [
    "learn.recorder.plot_loss()"
   ]
  },
  {
   "cell_type": "code",
   "execution_count": null,
   "metadata": {},
   "outputs": [],
   "source": []
  }
 ],
 "metadata": {
  "kernelspec": {
   "display_name": "fastai",
   "language": "python",
   "name": "fastai"
  },
  "language_info": {
   "codemirror_mode": {
    "name": "ipython",
    "version": 3
   },
   "file_extension": ".py",
   "mimetype": "text/x-python",
   "name": "python",
   "nbconvert_exporter": "python",
   "pygments_lexer": "ipython3",
   "version": "3.8.5"
  }
 },
 "nbformat": 4,
 "nbformat_minor": 4
}

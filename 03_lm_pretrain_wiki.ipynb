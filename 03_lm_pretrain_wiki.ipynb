{
 "cells": [
  {
   "cell_type": "code",
   "execution_count": 2,
   "metadata": {},
   "outputs": [],
   "source": [
    "from fastai.text.all import *\n",
    "from fastai.callback.progress import CSVLogger"
   ]
  },
  {
   "cell_type": "code",
   "execution_count": 7,
   "metadata": {},
   "outputs": [],
   "source": [
    "model_path = Path('data/model')\n",
    "path = Path('data/dewiki_160k/docs_160k')\n",
    "lang = 'de'"
   ]
  },
  {
   "cell_type": "code",
   "execution_count": 3,
   "metadata": {},
   "outputs": [],
   "source": [
    "bs=128"
   ]
  },
  {
   "cell_type": "code",
   "execution_count": 4,
   "metadata": {},
   "outputs": [],
   "source": [
    "tok = SentencePieceTokenizer(lang=lang)"
   ]
  },
  {
   "cell_type": "code",
   "execution_count": 5,
   "metadata": {
    "scrolled": true
   },
   "outputs": [],
   "source": [
    "dblock = DataBlock(blocks=TextBlock.from_folder(path, is_lm=True, tok=tok),\n",
    "                   get_items=get_files,\n",
    "                   splitter=RandomSplitter(valid_pct=0.1, seed=42),\n",
    "                  )\n",
    "\n",
    "dls = dblock.dataloaders(path, path=path, bs=bs, num_workers=18)"
   ]
  },
  {
   "cell_type": "code",
   "execution_count": 6,
   "metadata": {},
   "outputs": [
    {
     "data": {
      "text/html": [
       "<table border=\"1\" class=\"dataframe\">\n",
       "  <thead>\n",
       "    <tr style=\"text-align: right;\">\n",
       "      <th></th>\n",
       "      <th>text</th>\n",
       "      <th>text_</th>\n",
       "    </tr>\n",
       "  </thead>\n",
       "  <tbody>\n",
       "    <tr>\n",
       "      <th>0</th>\n",
       "      <td>▁xxbos ▁xxup ▁us ▁xxmaj ▁ men ’ s ▁xxmaj ▁clay ▁xxmaj ▁court ▁xxmaj ▁championship s ▁2009 ▁xxmaj ▁die ▁xxup ▁us ▁xxmaj ▁ men ’ s ▁xxmaj ▁clay ▁xxmaj ▁court ▁xxmaj ▁championship s ▁2009 ▁waren ▁ein ▁xxmaj ▁tennis turnier , ▁welches ▁vom ▁4. ▁bis ▁12. ▁xxmaj ▁april ▁2009 ▁in ▁xxmaj ▁houston ▁stattfand . ▁xxmaj ▁es ▁war ▁xxmaj ▁teil ▁der ▁xxup ▁atp ▁xxmaj ▁world ▁xxmaj ▁tour ▁2009 ▁und ▁wurde ▁im ▁xxmaj ▁freien ▁auf ▁xxmaj</td>\n",
       "      <td>▁xxup ▁us ▁xxmaj ▁ men ’ s ▁xxmaj ▁clay ▁xxmaj ▁court ▁xxmaj ▁championship s ▁2009 ▁xxmaj ▁die ▁xxup ▁us ▁xxmaj ▁ men ’ s ▁xxmaj ▁clay ▁xxmaj ▁court ▁xxmaj ▁championship s ▁2009 ▁waren ▁ein ▁xxmaj ▁tennis turnier , ▁welches ▁vom ▁4. ▁bis ▁12. ▁xxmaj ▁april ▁2009 ▁in ▁xxmaj ▁houston ▁stattfand . ▁xxmaj ▁es ▁war ▁xxmaj ▁teil ▁der ▁xxup ▁atp ▁xxmaj ▁world ▁xxmaj ▁tour ▁2009 ▁und ▁wurde ▁im ▁xxmaj ▁freien ▁auf ▁xxmaj ▁sand</td>\n",
       "    </tr>\n",
       "    <tr>\n",
       "      <th>1</th>\n",
       "      <td>▁xxmaj ▁saarlandes ▁zur ▁xxmaj ▁bundesrepublik ▁xxmaj ▁deutschland ▁das ▁xxmaj ▁unterscheidung s zeichen ▁\" ig b \" ▁zugewiesen . ▁xxmaj ▁es ▁wurde ▁bis ▁zum ▁28. ▁xxmaj ▁februar ▁1974 ▁ausgegeben . ▁xxmaj ▁für ▁die ▁xxmaj ▁dauer ▁eines ▁xxmaj ▁monats ▁war ▁es ▁nicht ▁erhältlich . ▁xxmaj ▁seit ▁dem ▁1. ▁xxmaj ▁april ▁1974 ▁wird ▁es ▁in ▁der ▁xxmaj ▁mittel stadt ▁xxmaj ▁sankt ▁xxmaj ▁ ing bert , ▁die ▁heute ▁zum ▁saar pfalz - kreis ▁gehört ,</td>\n",
       "      <td>▁saarlandes ▁zur ▁xxmaj ▁bundesrepublik ▁xxmaj ▁deutschland ▁das ▁xxmaj ▁unterscheidung s zeichen ▁\" ig b \" ▁zugewiesen . ▁xxmaj ▁es ▁wurde ▁bis ▁zum ▁28. ▁xxmaj ▁februar ▁1974 ▁ausgegeben . ▁xxmaj ▁für ▁die ▁xxmaj ▁dauer ▁eines ▁xxmaj ▁monats ▁war ▁es ▁nicht ▁erhältlich . ▁xxmaj ▁seit ▁dem ▁1. ▁xxmaj ▁april ▁1974 ▁wird ▁es ▁in ▁der ▁xxmaj ▁mittel stadt ▁xxmaj ▁sankt ▁xxmaj ▁ ing bert , ▁die ▁heute ▁zum ▁saar pfalz - kreis ▁gehört , ▁ausgegeben</td>\n",
       "    </tr>\n",
       "    <tr>\n",
       "      <th>2</th>\n",
       "      <td>▁und ▁umstritten e ▁xxmaj ▁journalist ▁xxmaj ▁maximilian ▁xxmaj ▁hard en ▁publizierte ▁in ▁der ▁von ▁ihm ▁herausgegeben en ▁xxmaj ▁zeitschrift ▁\" die ▁xxmaj ▁zukunft \" ▁im ▁xxmaj ▁sommer ▁1910 ▁nacheinander ▁drei ▁xxmaj ▁artikel ▁zum ▁xxmaj ▁fall , ▁in ▁denen ▁er ▁sehr ▁detailliert ▁aus ▁sexual pathologisch er ▁xxmaj ▁sicht ▁auf ▁den ▁xxmaj ▁täter ▁xxmaj ▁hugo ▁von ▁xxmaj ▁go e ben ▁ein ging . ▁xxmaj ▁sein ▁xxmaj ▁ kollege ▁xxmaj ▁karl ▁xxmaj ▁kraus ▁attackiert e</td>\n",
       "      <td>▁umstritten e ▁xxmaj ▁journalist ▁xxmaj ▁maximilian ▁xxmaj ▁hard en ▁publizierte ▁in ▁der ▁von ▁ihm ▁herausgegeben en ▁xxmaj ▁zeitschrift ▁\" die ▁xxmaj ▁zukunft \" ▁im ▁xxmaj ▁sommer ▁1910 ▁nacheinander ▁drei ▁xxmaj ▁artikel ▁zum ▁xxmaj ▁fall , ▁in ▁denen ▁er ▁sehr ▁detailliert ▁aus ▁sexual pathologisch er ▁xxmaj ▁sicht ▁auf ▁den ▁xxmaj ▁täter ▁xxmaj ▁hugo ▁von ▁xxmaj ▁go e ben ▁ein ging . ▁xxmaj ▁sein ▁xxmaj ▁ kollege ▁xxmaj ▁karl ▁xxmaj ▁kraus ▁attackiert e ▁ihn</td>\n",
       "    </tr>\n",
       "    <tr>\n",
       "      <th>3</th>\n",
       "      <td>▁„ großen ▁xxmaj ▁ göttin “ ▁geleitet ▁gewesen ▁und ▁anschließend ▁von ▁ patri linear en ▁xxmaj ▁hor den ▁ kulturell ▁über fremd et ▁worden ▁sei , ▁wurden ▁in ▁ihrer ▁archäologischen ▁xxmaj ▁daten basis ▁und ▁ihrer ▁erkenntnis theoretischen ▁xxmaj ▁grundlage ▁in ▁xxmaj ▁frage ▁gestellt . ▁xxmaj ▁der ▁britische ▁xxmaj ▁ archäologe ▁xxmaj ▁colin ▁xxmaj ▁ ren fre w ▁vertritt ▁dagegen ▁in ▁seiner ▁sogenannten ▁ anatolien - hypothese , ▁dass ▁sich ▁die ▁xxmaj ▁</td>\n",
       "      <td>großen ▁xxmaj ▁ göttin “ ▁geleitet ▁gewesen ▁und ▁anschließend ▁von ▁ patri linear en ▁xxmaj ▁hor den ▁ kulturell ▁über fremd et ▁worden ▁sei , ▁wurden ▁in ▁ihrer ▁archäologischen ▁xxmaj ▁daten basis ▁und ▁ihrer ▁erkenntnis theoretischen ▁xxmaj ▁grundlage ▁in ▁xxmaj ▁frage ▁gestellt . ▁xxmaj ▁der ▁britische ▁xxmaj ▁ archäologe ▁xxmaj ▁colin ▁xxmaj ▁ ren fre w ▁vertritt ▁dagegen ▁in ▁seiner ▁sogenannten ▁ anatolien - hypothese , ▁dass ▁sich ▁die ▁xxmaj ▁ indo</td>\n",
       "    </tr>\n",
       "    <tr>\n",
       "      <th>4</th>\n",
       "      <td>▁im ▁hessischen ▁xxmaj ▁amateur fußball ▁fort ▁und ▁war ▁in ▁dieser ▁xxmaj ▁funktion ▁beim ▁xxup ▁sv ▁xxmaj ▁kri f tel ▁(19 78) , ▁der ▁xxup ▁ sg ▁xxmaj ▁ kel k heim ▁(19 80 –19 82) ▁und ▁der ▁spvgg ▁xxmaj ▁ selig en stadt ▁(19 82) ▁aktiv . ▁xxbos ▁xxmaj ▁james ▁xxup ▁ o . ▁xxmaj ▁ pag e ▁xxmaj ▁james ▁xxup ▁ o . ▁xxmaj ▁ pag e ▁(* ▁7. ▁xxmaj ▁august</td>\n",
       "      <td>▁hessischen ▁xxmaj ▁amateur fußball ▁fort ▁und ▁war ▁in ▁dieser ▁xxmaj ▁funktion ▁beim ▁xxup ▁sv ▁xxmaj ▁kri f tel ▁(19 78) , ▁der ▁xxup ▁ sg ▁xxmaj ▁ kel k heim ▁(19 80 –19 82) ▁und ▁der ▁spvgg ▁xxmaj ▁ selig en stadt ▁(19 82) ▁aktiv . ▁xxbos ▁xxmaj ▁james ▁xxup ▁ o . ▁xxmaj ▁ pag e ▁xxmaj ▁james ▁xxup ▁ o . ▁xxmaj ▁ pag e ▁(* ▁7. ▁xxmaj ▁august ▁1936</td>\n",
       "    </tr>\n",
       "    <tr>\n",
       "      <th>5</th>\n",
       "      <td>▁gebäude ▁in ▁xxmaj ▁bad ▁xxmaj ▁ d ober an ▁in ▁mecklenburg - vorpommern . ▁xxmaj ▁seit ▁der ▁xxmaj ▁gründung ▁des ▁ersten ▁deutschen ▁xxmaj ▁see bad es ▁in ▁xxmaj ▁heiligen damm ▁war ▁xxmaj ▁ d ober an ▁ein ▁xxmaj ▁an ziehung s punkt ▁für ▁xxmaj ▁kur gäste . ▁xxmaj ▁ d ober an ▁war ▁xxmaj ▁wohn - ▁und ▁xxmaj ▁ vergnügungs ort ▁der ▁xxmaj ▁heiligen damm er ▁xxmaj ▁bade gäste . ▁xxmaj ▁auf</td>\n",
       "      <td>▁in ▁xxmaj ▁bad ▁xxmaj ▁ d ober an ▁in ▁mecklenburg - vorpommern . ▁xxmaj ▁seit ▁der ▁xxmaj ▁gründung ▁des ▁ersten ▁deutschen ▁xxmaj ▁see bad es ▁in ▁xxmaj ▁heiligen damm ▁war ▁xxmaj ▁ d ober an ▁ein ▁xxmaj ▁an ziehung s punkt ▁für ▁xxmaj ▁kur gäste . ▁xxmaj ▁ d ober an ▁war ▁xxmaj ▁wohn - ▁und ▁xxmaj ▁ vergnügungs ort ▁der ▁xxmaj ▁heiligen damm er ▁xxmaj ▁bade gäste . ▁xxmaj ▁auf ▁xxmaj</td>\n",
       "    </tr>\n",
       "    <tr>\n",
       "      <th>6</th>\n",
       "      <td>amerikanischen ▁xxmaj ▁einheiten ▁und ▁xxmaj ▁kampf flugzeugen ▁der ▁anti - is - koalition . ▁xxmaj ▁moss ul ▁ist ▁als ▁größte ▁xxmaj ▁stadt ▁im ▁xxmaj ▁nord ira k ▁ strategisch ▁bedeutend . ▁xxmaj ▁sie ▁war ▁auch ▁für ▁den ▁xxup ▁ is ▁von ▁besonderer ▁xxmaj ▁bedeutung , ▁da ▁der ▁damalige ▁ is - an führer ▁xxmaj ▁abu ▁xxmaj ▁ bak r ▁ al - ba gh da di ▁von ▁hier ▁aus ▁am ▁29. ▁xxmaj</td>\n",
       "      <td>▁xxmaj ▁einheiten ▁und ▁xxmaj ▁kampf flugzeugen ▁der ▁anti - is - koalition . ▁xxmaj ▁moss ul ▁ist ▁als ▁größte ▁xxmaj ▁stadt ▁im ▁xxmaj ▁nord ira k ▁ strategisch ▁bedeutend . ▁xxmaj ▁sie ▁war ▁auch ▁für ▁den ▁xxup ▁ is ▁von ▁besonderer ▁xxmaj ▁bedeutung , ▁da ▁der ▁damalige ▁ is - an führer ▁xxmaj ▁abu ▁xxmaj ▁ bak r ▁ al - ba gh da di ▁von ▁hier ▁aus ▁am ▁29. ▁xxmaj ▁juni</td>\n",
       "    </tr>\n",
       "    <tr>\n",
       "      <th>7</th>\n",
       "      <td>▁xxmaj ▁als ▁aktiver ▁xxmaj ▁spieler ▁gehörte ▁er ▁dem ▁xxmaj ▁tischtennis verein ▁gelb - weiß ▁1900 ▁xxmaj ▁berlin ▁an . ▁xxmaj ▁bei ▁inoffizielle n ▁deutschen ▁xxmaj ▁ meisterschaften ▁gewann ▁er ▁von ▁1904 ▁bis ▁1907 ▁den ▁xxmaj ▁titel . ▁xxmaj ▁daneben ▁spielte ▁er ▁auch ▁xxmaj ▁tennis , ▁wo ▁er ▁etwa ▁150 ▁xxmaj ▁preise ▁gewann . ▁xxmaj ▁als ▁xxmaj ▁mitte ▁der ▁1920 er ▁xxmaj ▁jahre ▁das ▁xxmaj ▁tischtennis ▁in ▁xxmaj ▁deutschland ▁wieder ▁xxmaj ▁aufschwung ▁nahm</td>\n",
       "      <td>▁als ▁aktiver ▁xxmaj ▁spieler ▁gehörte ▁er ▁dem ▁xxmaj ▁tischtennis verein ▁gelb - weiß ▁1900 ▁xxmaj ▁berlin ▁an . ▁xxmaj ▁bei ▁inoffizielle n ▁deutschen ▁xxmaj ▁ meisterschaften ▁gewann ▁er ▁von ▁1904 ▁bis ▁1907 ▁den ▁xxmaj ▁titel . ▁xxmaj ▁daneben ▁spielte ▁er ▁auch ▁xxmaj ▁tennis , ▁wo ▁er ▁etwa ▁150 ▁xxmaj ▁preise ▁gewann . ▁xxmaj ▁als ▁xxmaj ▁mitte ▁der ▁1920 er ▁xxmaj ▁jahre ▁das ▁xxmaj ▁tischtennis ▁in ▁xxmaj ▁deutschland ▁wieder ▁xxmaj ▁aufschwung ▁nahm ▁und</td>\n",
       "    </tr>\n",
       "    <tr>\n",
       "      <th>8</th>\n",
       "      <td>▁in ▁xxmaj ▁schief weg , ▁heute ▁xxmaj ▁ortsteil ▁von ▁xxmaj ▁wald kirchen ▁/ ▁xxmaj ▁niederbayern ; ▁† ▁28. ▁xxmaj ▁februar ▁1928 ▁in ▁xxmaj ▁chicago , ▁xxmaj ▁illinois ) ▁war ▁eine ▁deutsche ▁xxmaj ▁ schriftstellerin . ▁xxmaj ▁neben ▁xxmaj ▁ lena ▁xxmaj ▁christ ▁gilt ▁sie ▁als ▁die ▁bedeutendste ▁bayerische ▁xxmaj ▁volks dichter in . ▁xxmaj ▁die ▁1874 ▁in ▁xxmaj ▁schief weg ▁( gemeinde ▁xxmaj ▁wald kirchen ) ▁geborene ▁xxmaj ▁ emer enz ▁xxmaj</td>\n",
       "      <td>▁xxmaj ▁schief weg , ▁heute ▁xxmaj ▁ortsteil ▁von ▁xxmaj ▁wald kirchen ▁/ ▁xxmaj ▁niederbayern ; ▁† ▁28. ▁xxmaj ▁februar ▁1928 ▁in ▁xxmaj ▁chicago , ▁xxmaj ▁illinois ) ▁war ▁eine ▁deutsche ▁xxmaj ▁ schriftstellerin . ▁xxmaj ▁neben ▁xxmaj ▁ lena ▁xxmaj ▁christ ▁gilt ▁sie ▁als ▁die ▁bedeutendste ▁bayerische ▁xxmaj ▁volks dichter in . ▁xxmaj ▁die ▁1874 ▁in ▁xxmaj ▁schief weg ▁( gemeinde ▁xxmaj ▁wald kirchen ) ▁geborene ▁xxmaj ▁ emer enz ▁xxmaj ▁</td>\n",
       "    </tr>\n",
       "  </tbody>\n",
       "</table>"
      ],
      "text/plain": [
       "<IPython.core.display.HTML object>"
      ]
     },
     "metadata": {},
     "output_type": "display_data"
    }
   ],
   "source": [
    "dls.show_batch()"
   ]
  },
  {
   "cell_type": "code",
   "execution_count": 7,
   "metadata": {},
   "outputs": [
    {
     "data": {
      "text/plain": [
       "(20281, 2253)"
      ]
     },
     "execution_count": 7,
     "metadata": {},
     "output_type": "execute_result"
    }
   ],
   "source": [
    "len(dls.train), len(dls.valid)"
   ]
  },
  {
   "cell_type": "code",
   "execution_count": 8,
   "metadata": {},
   "outputs": [],
   "source": [
    "learn = language_model_learner(dls, AWD_LSTM, drop_mult=0.5, pretrained=False, \n",
    "                               metrics=[accuracy, Perplexity()]).to_native_fp16()\n",
    "learn.path = model_path"
   ]
  },
  {
   "cell_type": "code",
   "execution_count": 9,
   "metadata": {},
   "outputs": [],
   "source": [
    "lr = 1e-2\n",
    "lr *= bs/48  # Scale learning rate by batch size"
   ]
  },
  {
   "cell_type": "code",
   "execution_count": 10,
   "metadata": {},
   "outputs": [],
   "source": [
    "cbs=[CSVLogger(fname='history_de_wikitext.csv')]"
   ]
  },
  {
   "cell_type": "code",
   "execution_count": null,
   "metadata": {},
   "outputs": [
    {
     "data": {
      "text/html": [
       "\n",
       "    <div>\n",
       "        <style>\n",
       "            /* Turns off some styling */\n",
       "            progress {\n",
       "                /* gets rid of default border in Firefox and Opera. */\n",
       "                border: none;\n",
       "                /* Needs to be in here for Safari polyfill so background images work as expected. */\n",
       "                background-size: auto;\n",
       "            }\n",
       "            .progress-bar-interrupted, .progress-bar-interrupted::-webkit-progress-bar {\n",
       "                background: #F44336;\n",
       "            }\n",
       "        </style>\n",
       "      <progress value='0' class='' max='10' style='width:300px; height:20px; vertical-align: middle;'></progress>\n",
       "      0.00% [0/10 00:00<00:00]\n",
       "    </div>\n",
       "    \n",
       "<table border=\"1\" class=\"dataframe\">\n",
       "  <thead>\n",
       "    <tr style=\"text-align: left;\">\n",
       "      <th>epoch</th>\n",
       "      <th>train_loss</th>\n",
       "      <th>valid_loss</th>\n",
       "      <th>accuracy</th>\n",
       "      <th>perplexity</th>\n",
       "      <th>time</th>\n",
       "    </tr>\n",
       "  </thead>\n",
       "  <tbody>\n",
       "  </tbody>\n",
       "</table><p>\n",
       "\n",
       "    <div>\n",
       "        <style>\n",
       "            /* Turns off some styling */\n",
       "            progress {\n",
       "                /* gets rid of default border in Firefox and Opera. */\n",
       "                border: none;\n",
       "                /* Needs to be in here for Safari polyfill so background images work as expected. */\n",
       "                background-size: auto;\n",
       "            }\n",
       "            .progress-bar-interrupted, .progress-bar-interrupted::-webkit-progress-bar {\n",
       "                background: #F44336;\n",
       "            }\n",
       "        </style>\n",
       "      <progress value='12677' class='' max='20281' style='width:300px; height:20px; vertical-align: middle;'></progress>\n",
       "      62.51% [12677/20281 14:08<08:28 3.7401]\n",
       "    </div>\n",
       "    "
      ],
      "text/plain": [
       "<IPython.core.display.HTML object>"
      ]
     },
     "metadata": {},
     "output_type": "display_data"
    }
   ],
   "source": [
    "learn.unfreeze()\n",
    "learn.fit_one_cycle(10, lr, cbs=cbs, moms=(0.8, 0.7, 0.8))"
   ]
  },
  {
   "cell_type": "code",
   "execution_count": null,
   "metadata": {},
   "outputs": [],
   "source": [
    "lm_fns = [model_path/f'{lang}_wikitext', model_path/f'{lang}_wikitext_vocab.pkl']"
   ]
  },
  {
   "cell_type": "code",
   "execution_count": null,
   "metadata": {},
   "outputs": [],
   "source": [
    "learn.to_fp32().save(lm_fns[0], with_opt=False)"
   ]
  },
  {
   "cell_type": "code",
   "execution_count": null,
   "metadata": {},
   "outputs": [],
   "source": [
    "with open(lm_fns[1], 'wb') as f:\n",
    "      pickle.dump(learn.dls.vocab, f)"
   ]
  },
  {
   "cell_type": "code",
   "execution_count": null,
   "metadata": {},
   "outputs": [],
   "source": []
  }
 ],
 "metadata": {
  "kernelspec": {
   "display_name": "fastai",
   "language": "python",
   "name": "fastai"
  },
  "language_info": {
   "codemirror_mode": {
    "name": "ipython",
    "version": 3
   },
   "file_extension": ".py",
   "mimetype": "text/x-python",
   "name": "python",
   "nbconvert_exporter": "python",
   "pygments_lexer": "ipython3",
   "version": "3.8.5"
  }
 },
 "nbformat": 4,
 "nbformat_minor": 4
}
